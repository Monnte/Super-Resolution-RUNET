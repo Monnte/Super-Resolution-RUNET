{
 "cells": [
  {
   "cell_type": "code",
   "execution_count": null,
   "metadata": {},
   "outputs": [],
   "source": [
    "from models.UNet import UNet\n",
    "from models.RUNet import RUNet\n",
    "\n",
    "import torch\n",
    "from PIL import Image\n",
    "from torchvision.transforms import Grayscale,ToTensor,Resize,GaussianBlur,ToPILImage\n",
    "from torchvision.utils import save_image\n",
    "from utils import lr_transform_valid, psnr,ssim\n",
    "import numpy as np\n",
    "\n",
    "model = torch.jit.load(\"test_scripted.pt\")"
   ]
  },
  {
   "cell_type": "code",
   "execution_count": null,
   "metadata": {},
   "outputs": [],
   "source": [
    "model = torch.load(\"test_model.pt\")\n",
    "model.eval()"
   ]
  },
  {
   "cell_type": "code",
   "execution_count": null,
   "metadata": {},
   "outputs": [],
   "source": [
    "model = RUNet().to(\"cpu\")\n",
    "model.load_state_dict(torch.load(\"./savedModels/RUNET_PLS_PERCEPTUAL.pth\",map_location=torch.device('cpu')))"
   ]
  },
  {
   "cell_type": "code",
   "execution_count": null,
   "metadata": {},
   "outputs": [],
   "source": [
    "model.eval()\n",
    "IMAGE = \"./datasets/tests/comics.jpg\"\n",
    "\n",
    "in_image = Image.open(IMAGE)\n",
    "in_image = Resize(in_image.size[0] // 2)(Grayscale()(in_image))\n",
    "\n",
    "interpolated =  lr_transform((in_image.size[1],in_image.size[0]),2)(ToTensor()(in_image))\n",
    "\n",
    "in_image = ToTensor()(in_image)\n",
    "# in_image += (0.01**0.5)*torch.rand_like(in_image)\n",
    "save_image(in_image,\"./outputs/one_image_input.jpg\")\n",
    "save_image(interpolated,\"./outputs/one_image_interpolation.jpg\")\n",
    "out = model(interpolated.unsqueeze(0))\n",
    "save_image(out,\"./outputs/one_image_out.jpg\")\n",
    "\n",
    "interpolated = interpolated.unsqueeze(0)\n",
    "in_image = in_image.unsqueeze(0)\n",
    "\n",
    "print(\"SSIM\")\n",
    "print(\"interpolation: \",ssim(interpolated,in_image))\n",
    "print(\"net: \",ssim(out,in_image))\n",
    "\n",
    "print(\"PSNR\")\n",
    "print(\"interpolation: \",psnr(interpolated,in_image))\n",
    "print(\"net: \",psnr(out,in_image))\n"
   ]
  }
 ],
 "metadata": {
  "interpreter": {
   "hash": "3b1124b8d85605f2e8aad2fae757fdf87f565234a1ee8bcdb7289c2b86d7742c"
  },
  "kernelspec": {
   "display_name": "Python 3.9.5 64-bit ('base': conda)",
   "language": "python",
   "name": "python3"
  },
  "language_info": {
   "codemirror_mode": {
    "name": "ipython",
    "version": 3
   },
   "file_extension": ".py",
   "mimetype": "text/x-python",
   "name": "python",
   "nbconvert_exporter": "python",
   "pygments_lexer": "ipython3",
   "version": "3.9.5"
  },
  "orig_nbformat": 4
 },
 "nbformat": 4,
 "nbformat_minor": 2
}
