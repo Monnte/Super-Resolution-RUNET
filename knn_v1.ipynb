{
 "cells": [
  {
   "cell_type": "markdown",
   "metadata": {},
   "source": [
    "# Imports"
   ]
  },
  {
   "cell_type": "code",
   "execution_count": null,
   "metadata": {},
   "outputs": [],
   "source": [
    "import os\n",
    "import cv2\n",
    "import numpy as np\n",
    "from tqdm import tqdm\n",
    "\n",
    "from os.path import join\n",
    "from os import listdir\n",
    "\n",
    "import torch\n",
    "import torch.nn as nn\n",
    "import torch.nn.functional as F\n",
    "import torch.optim as optim\n",
    "\n",
    "from torch.utils.data import DataLoader, Dataset\n",
    "from torchvision.transforms import Compose, RandomCrop, ToTensor, ToPILImage, Resize, Grayscale, GaussianBlur\n",
    "from PIL import Image\n",
    "\n",
    "import matplotlib.pyplot as plt\n",
    "from torchvision.utils import save_image"
   ]
  },
  {
   "cell_type": "markdown",
   "metadata": {},
   "source": [
    "# Dataset"
   ]
  },
  {
   "cell_type": "code",
   "execution_count": null,
   "metadata": {},
   "outputs": [],
   "source": [
    "class TrainingDataset(Dataset):\n",
    "    def __init__(self, folder, blur_size, crop):\n",
    "        super(TrainingDataset, self).__init__()\n",
    "        self.image_filenames = [join(folder, x) for x in listdir(folder)]\n",
    "\n",
    "        self.hr_transform = Compose([\n",
    "            RandomCrop(crop),\n",
    "            Grayscale(num_output_channels=1),\n",
    "            ToTensor(),\n",
    "        ])\n",
    "\n",
    "        self.lr_transform = Compose([\n",
    "            ToPILImage(),\n",
    "            GaussianBlur(blur_size),\n",
    "            ToTensor()\n",
    "        ])\n",
    "\n",
    "    def __getitem__(self, i):\n",
    "        hr_image = self.hr_transform(Image.open(self.image_filenames[i]))\n",
    "        lr_image = self.lr_transform(hr_image)\n",
    "        return lr_image, hr_image\n",
    "\n",
    "    def __len__(self):\n",
    "        return len(self.image_filenames)\n"
   ]
  },
  {
   "cell_type": "code",
   "execution_count": null,
   "metadata": {},
   "outputs": [],
   "source": [
    "\n",
    "CROP = 32\n",
    "BATCH_SIZE = 100\n",
    "EPOCHS = 250\n",
    "BLUR = 3\n",
    "LR = 0.001\n",
    "\n",
    "train_data = TrainingDataset(\"data/train\", crop=CROP, blur_size=BLUR)\n",
    "train_loader = DataLoader(\n",
    "    train_data, batch_size=BATCH_SIZE, num_workers=4, shuffle=True)\n",
    "\n",
    "\n",
    "# val_data = TrainingDataset(\"data/val\", crop=CROP,blur_size=BLUR)\n",
    "# val_loader = DataLoader(val_data, batch_size=BATCH_SIZE, num_workers=4, shuffle=True)\n"
   ]
  },
  {
   "cell_type": "markdown",
   "metadata": {},
   "source": [
    "# SRCNN Model"
   ]
  },
  {
   "cell_type": "code",
   "execution_count": null,
   "metadata": {},
   "outputs": [],
   "source": [
    "class SRCNN(nn.Module):\n",
    "    def __init__(self):\n",
    "        super().__init__()\n",
    "        self.conv1 = nn.Conv2d(1, 64, kernel_size=9,\n",
    "                               padding=2, padding_mode='replicate')\n",
    "        self.conv2 = nn.Conv2d(64, 32, kernel_size=1,\n",
    "                               padding=2, padding_mode='replicate')\n",
    "        self.conv3 = nn.Conv2d(32, 1, kernel_size=5,\n",
    "                               padding=2, padding_mode='replicate')\n",
    "\n",
    "    def forward(self, x):\n",
    "        x = F.relu(self.conv1(x))\n",
    "        x = F.relu(self.conv2(x))\n",
    "        x = self.conv3(x)\n",
    "\n",
    "        return x\n"
   ]
  },
  {
   "cell_type": "code",
   "execution_count": null,
   "metadata": {},
   "outputs": [],
   "source": [
    "device = 'cuda' if torch.cuda.is_available() else 'cpu'\n",
    "model = SRCNN().to(device)\n",
    "\n",
    "optimizer = optim.Adam(model.parameters(), lr=LR)\n",
    "loss_function = nn.MSELoss()\n",
    "\n",
    "\n",
    "def train(model, dataloader):\n",
    "    model.train()\n",
    "    running_loss = 0.0\n",
    "    for i, (lr_image, hr_image) in tqdm(enumerate(dataloader)):\n",
    "        lr_image = lr_image.to(device)\n",
    "        hr_image = hr_image.to(device)\n",
    "\n",
    "        outputs = model(lr_image)\n",
    "        loss = loss_function(outputs, hr_image)\n",
    "\n",
    "        optimizer.zero_grad()\n",
    "        loss.backward()\n",
    "        optimizer.step()\n",
    "\n",
    "        running_loss += loss.item()\n",
    "\n",
    "    final_loss = running_loss/len(dataloader.dataset)\n",
    "\n",
    "    return final_loss\n"
   ]
  },
  {
   "cell_type": "markdown",
   "metadata": {},
   "source": [
    "# Train model"
   ]
  },
  {
   "cell_type": "code",
   "execution_count": null,
   "metadata": {},
   "outputs": [],
   "source": [
    "for epoch in range(EPOCHS):\n",
    "    print(f\"Epoch {epoch + 1} of {EPOCHS}\")\n",
    "    train_epoch_loss = train(model, train_loader)\n",
    "    print(train_epoch_loss)\n"
   ]
  },
  {
   "cell_type": "markdown",
   "metadata": {},
   "source": [
    "# Save model"
   ]
  },
  {
   "cell_type": "code",
   "execution_count": null,
   "metadata": {},
   "outputs": [],
   "source": [
    "print('Saving model...')\n",
    "torch.save(model.state_dict(), './models/SRCNN2.pth')"
   ]
  },
  {
   "cell_type": "markdown",
   "metadata": {},
   "source": [
    "# Testing the trained model"
   ]
  },
  {
   "cell_type": "code",
   "execution_count": null,
   "metadata": {},
   "outputs": [],
   "source": [
    "test_data_folder = \"data/testing\"\n",
    "image_filenames = [join(test_data_folder, x)\n",
    "                   for x in listdir(test_data_folder)]\n",
    "\n",
    "model = SRCNN()\n",
    "model.load_state_dict(torch.load('./models/SRCNN.pth'))\n",
    "\n",
    "model.eval()\n",
    "with torch.no_grad():\n",
    "    for filename in image_filenames:\n",
    "        image = cv2.imread(filename, cv2.IMREAD_COLOR)\n",
    "        image = cv2.cvtColor(image, cv2.COLOR_BGR2GRAY)\n",
    "\n",
    "        image = image.reshape(image.shape[0], image.shape[1], 1)\n",
    "        image = image / 255.0\n",
    "\n",
    "        image = np.transpose(image, (2, 0, 1)).astype(np.float32)\n",
    "        image = torch.tensor(image, dtype=torch.float).to(device)\n",
    "        image = image.unsqueeze(0)\n",
    "        save_image(image, f\"./outputs/test_{os.path.basename(filename)}\")\n",
    "\n",
    "        outputs = model(image)\n",
    "        outputs = outputs.cpu()\n",
    "        save_image(outputs, f\"./outputs/out_{os.path.basename(filename)}\")"
   ]
  },
  {
   "cell_type": "code",
   "execution_count": null,
   "metadata": {},
   "outputs": [],
   "source": [
    "torch.cuda.is_available() "
   ]
  },
  {
   "cell_type": "code",
   "execution_count": null,
   "metadata": {},
   "outputs": [],
   "source": []
  }
 ],
 "metadata": {
  "interpreter": {
   "hash": "916dbcbb3f70747c44a77c7bcd40155683ae19c65e1c03b4aa3499c5328201f1"
  },
  "kernelspec": {
   "display_name": "Python 3.8.10 64-bit",
   "name": "python3"
  },
  "language_info": {
   "codemirror_mode": {
    "name": "ipython",
    "version": 3
   },
   "file_extension": ".py",
   "mimetype": "text/x-python",
   "name": "python",
   "nbconvert_exporter": "python",
   "pygments_lexer": "ipython3",
   "version": "3.8.10"
  },
  "orig_nbformat": 4
 },
 "nbformat": 4,
 "nbformat_minor": 2
}
