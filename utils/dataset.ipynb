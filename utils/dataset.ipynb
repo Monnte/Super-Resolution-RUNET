{
 "cells": [
  {
   "cell_type": "code",
   "execution_count": 1,
   "metadata": {},
   "outputs": [],
   "source": [
    "import os\n",
    "from pathlib import Path\n",
    "from torchvision.transforms import Compose,Resize,ToTensor\n",
    "from torchvision.transforms.functional import hflip,vflip\n",
    "from torchvision.utils import save_image\n",
    "from PIL import Image\n",
    "\n",
    "def isImage(file):\n",
    "\timageExtensions = [\".png\",\".jpg\",\".jpeg\"]\n",
    "\tfile_extension = Path(file).suffix\n",
    "\treturn file_extension in imageExtensions\n",
    "\n",
    "def resizeImage(resize):\n",
    "\treturn Compose([\n",
    "\t\tToTensor(),\n",
    "\t\tResize(resize),\n",
    "\t])\n",
    "\n",
    "def prepare_dataset(folder,out_folder = \"data\", resize=(1024,1024)):\n",
    "\tos.makedirs(out_folder,exist_ok=True)\n",
    "\n",
    "\t# Find all files in folders/subfolders with extension\n",
    "\tfor file in Path(folder).rglob( '*.*' ):\n",
    "\t\tif isImage(file):\n",
    "\t\t\ttry:\n",
    "\t\t\t\timage = Image.open(file)\n",
    "\t\t\t\timage = resizeImage(resize)(image)\n",
    "\t\t\t\tsave_image(image, f\"./{out_folder}/{os.path.basename(file)}\")\n",
    "\t\t\texcept Exception:\n",
    "\t\t\t\tprint(f\"Skip file:{file}\")\n"
   ]
  },
  {
   "cell_type": "code",
   "execution_count": 3,
   "metadata": {},
   "outputs": [
    {
     "name": "stderr",
     "output_type": "stream",
     "text": [
      "/home/monnte/miniconda3/lib/python3.9/site-packages/PIL/TiffImagePlugin.py:819: UserWarning: Corrupt EXIF data.  Expecting to read 2 bytes but only got 0. \n",
      "  warnings.warn(str(msg))\n"
     ]
    }
   ],
   "source": [
    "prepare_dataset(folder=\"./datasets/comcis_origo_train\",out_folder=\"./datasets/comcis_train\")"
   ]
  },
  {
   "cell_type": "code",
   "execution_count": 2,
   "metadata": {},
   "outputs": [],
   "source": [
    "prepare_dataset(folder=\"./datasets/comics_origo_valid\",out_folder=\"./datasets/comics_valid\")"
   ]
  }
 ],
 "metadata": {
  "interpreter": {
   "hash": "e7370f93d1d0cde622a1f8e1c04877d8463912d04d973331ad4851f04de6915a"
  },
  "kernelspec": {
   "display_name": "Python 3.9.7 64-bit",
   "language": "python",
   "name": "python3"
  },
  "language_info": {
   "codemirror_mode": {
    "name": "ipython",
    "version": 3
   },
   "file_extension": ".py",
   "mimetype": "text/x-python",
   "name": "python",
   "nbconvert_exporter": "python",
   "pygments_lexer": "ipython3",
   "version": "3.9.5"
  },
  "orig_nbformat": 4
 },
 "nbformat": 4,
 "nbformat_minor": 2
}
