{
 "cells": [
  {
   "cell_type": "markdown",
   "metadata": {},
   "source": [
    "# IMPORTS"
   ]
  },
  {
   "cell_type": "code",
   "execution_count": 1,
   "metadata": {},
   "outputs": [],
   "source": [
    "import torch\n",
    "import torch.nn as nn\n",
    "import torch.optim as optim\n",
    "from torchvision.utils import save_image\n",
    "from torch.utils.data import DataLoader\n",
    "from utils import *\n",
    "from models.UNet import UNet\n",
    "from models.RUNet import RUNet\n",
    "from tqdm import tqdm\n",
    "\n",
    "import numpy as np\n",
    "import seaborn as sns"
   ]
  },
  {
   "cell_type": "code",
   "execution_count": 2,
   "metadata": {},
   "outputs": [
    {
     "data": {
      "text/plain": [
       "'cuda'"
      ]
     },
     "execution_count": 2,
     "metadata": {},
     "output_type": "execute_result"
    }
   ],
   "source": [
    "MODEL_NAME=\"UNET_PERCEPTUAL_LOSS\"\n",
    "EPOCHS = 50\n",
    "LR = 0.001\n",
    "UPSCALE = 2\n",
    "CROP_SIZE = 128\n",
    "DEVICE = 'cuda' if torch.cuda.is_available() else 'cpu'\n",
    "\n",
    "model = UNet().to(DEVICE)\n",
    "DEVICE"
   ]
  },
  {
   "cell_type": "code",
   "execution_count": 3,
   "metadata": {},
   "outputs": [],
   "source": [
    "train_data = MineDataset(\"./datasets/comics_train\",UPSCALE,CROP_SIZE,\"train\")\n",
    "valid_data = MineDataset(\"./datasets/comics_valid\",UPSCALE,1024,\"valid\")\n",
    "\n",
    "train_loader = DataLoader(train_data, batch_size=16, num_workers=4, shuffle=True,pin_memory=True)\n",
    "valid_loader = DataLoader(valid_data, batch_size=1, num_workers=4, shuffle=False,pin_memory=True)"
   ]
  },
  {
   "cell_type": "markdown",
   "metadata": {},
   "source": [
    "Memory test"
   ]
  },
  {
   "cell_type": "code",
   "execution_count": null,
   "metadata": {},
   "outputs": [],
   "source": [
    "input_tensor = torch.rand(16,1,128,128).to(DEVICE)\n",
    "output_tensor = model(input_tensor)\n",
    "print(output_tensor.size())"
   ]
  },
  {
   "cell_type": "markdown",
   "metadata": {},
   "source": [
    "Training"
   ]
  },
  {
   "cell_type": "code",
   "execution_count": null,
   "metadata": {},
   "outputs": [],
   "source": [
    "optimizer = optim.Adam(model.parameters(), lr=LR)\n",
    "# loss_function = nn.MSELoss()\n",
    "loss_function = PerceptualLoss().to(DEVICE)\n",
    "\n",
    "trainLoss = []\n",
    "# bestLoss = 10\n",
    "model.train()\n",
    "for epoch in tqdm(range(EPOCHS)):\n",
    "    running_loss = 0.0\n",
    "    \n",
    "    for lr_image, hr_image in train_loader:\n",
    "        lr_imgs = lr_imgs.to(DEVICE) \n",
    "        hr_imgs = hr_imgs.to(DEVICE)\n",
    "\n",
    "\n",
    "\n",
    "        outputs = model(lr_image)\n",
    "        loss = loss_function(outputs, hr_image)\n",
    "\n",
    "        optimizer.zero_grad()\n",
    "        loss.backward()\n",
    "\n",
    "        optimizer.step()\n",
    "\n",
    "        running_loss += loss.item()\n",
    "\n",
    "        torch.save({'epoch': epoch,\n",
    "                    'model': model,\n",
    "                    'optimizer': optimizer},\n",
    "                    './savedModels/{MODEL_NAME}.pth.tar')\n",
    "        \n",
    "    save_image(lr_image,f\"./outputs/{epoch}_lr.jpg\")\n",
    "    save_image(hr_image,f\"./outputs/{epoch}_hr.jpg\")\n",
    "    save_image(outputs,f\"./outputs/{epoch}_out.jpg\")\n",
    "    trainLoss.append(running_loss/train_loader.batch_size)\n"
   ]
  },
  {
   "cell_type": "code",
   "execution_count": null,
   "metadata": {},
   "outputs": [],
   "source": []
  },
  {
   "cell_type": "code",
   "execution_count": 16,
   "metadata": {},
   "outputs": [
    {
     "data": {
      "image/png": "[encoded data removed]",
      "text/plain": [
       "<Figure size 842.4x595.44 with 1 Axes>"
      ]
     },
     "metadata": {},
     "output_type": "display_data"
    }
   ],
   "source": [
    "\n",
    "sns.set(rc={'figure.figsize':(11.7,8.27)})\n",
    "p = sns.lineplot(data=np.random.rand(2))\n",
    "p.set_xlabel(\"Epochs\")\n",
    "p.set_ylabel(\"Loss\")\n",
    "fig = p.get_figure()\n",
    "fig.tight_layout()\n",
    "fig.savefig(\"out.png\") "
   ]
  },
  {
   "cell_type": "markdown",
   "metadata": {},
   "source": [
    "Valid model"
   ]
  },
  {
   "cell_type": "code",
   "execution_count": 4,
   "metadata": {},
   "outputs": [
    {
     "name": "stderr",
     "output_type": "stream",
     "text": [
      "100%|██████████| 121/121 [01:16<00:00,  1.58it/s]"
     ]
    },
    {
     "name": "stdout",
     "output_type": "stream",
     "text": [
      "PSNR - 20.400\n",
      "SSIM - 0.575\n"
     ]
    },
    {
     "name": "stderr",
     "output_type": "stream",
     "text": [
      "\n"
     ]
    }
   ],
   "source": [
    "validLoss = []\n",
    "model_psnr = []\n",
    "model_ssim = []\n",
    "model.load_state_dict(torch.load(\"./savedModels/UNET2.pth\"))\n",
    "model.eval()\n",
    "with torch.no_grad():\n",
    "        for lr_image, hr_image in tqdm(valid_loader):\n",
    "            lr_image = lr_image.to(DEVICE)\n",
    "            hr_image = hr_image.to(DEVICE)\n",
    "          \n",
    "            outputs = model(lr_image)\n",
    "            \n",
    "            model_psnr.append(psnr(hr_image, outputs,1.0))\n",
    "            model_ssim.append(ssim(hr_image, outputs,1.0))\n",
    "        \n",
    "            save_image(lr_image,f\"1_lr.jpg\")\n",
    "            save_image(hr_image,f\"2_hr.jpg\")\n",
    "            save_image(outputs,f\"3_out.jpg\")\n",
    "\n",
    "model_psnr = np.array(model_psnr)\n",
    "model_ssim = np.array(model_ssim)\n",
    "\n",
    "print(f\"PSNR - {np.average(model_psnr):.3f}\")\n",
    "print(f\"SSIM - {np.average(model_ssim):.3f}\")"
   ]
  },
  {
   "cell_type": "markdown",
   "metadata": {},
   "source": [
    "### RUNET PERCEPTUAL\n",
    "PSNR - 24.731<br>\n",
    "SSIM - 0.772\n",
    "### UNET PERCEPTUAL\n",
    "PSNR - 24.759<br>\n",
    "SSIM - 0.787"
   ]
  }
 ],
 "metadata": {
  "interpreter": {
   "hash": "e7370f93d1d0cde622a1f8e1c04877d8463912d04d973331ad4851f04de6915a"
  },
  "kernelspec": {
   "display_name": "Python 3.9.7 64-bit",
   "name": "python3"
  },
  "language_info": {
   "codemirror_mode": {
    "name": "ipython",
    "version": 3
   },
   "file_extension": ".py",
   "mimetype": "text/x-python",
   "name": "python",
   "nbconvert_exporter": "python",
   "pygments_lexer": "ipython3",
   "version": "3.9.5"
  }
 },
 "nbformat": 4,
 "nbformat_minor": 2
}
